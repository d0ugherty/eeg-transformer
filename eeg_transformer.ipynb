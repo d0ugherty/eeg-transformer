{
 "cells": [
  {
   "cell_type": "code",
   "execution_count": 1,
   "metadata": {},
   "outputs": [],
   "source": [
    "import numpy as np\n",
    "import glob\n",
    "import os\n",
    "import pandas as pd\n",
    "import scipy.signal as signal\n",
    "import mne\n",
    "import torch\n",
    "from torch.utils.data import DataLoader, Dataset\n",
    "from mne import preprocessing, Epochs\n",
    "import utils\n",
    "import matplotlib.pyplot as plt"
   ]
  },
  {
   "cell_type": "markdown",
   "metadata": {},
   "source": [
    "## Data pre-processing"
   ]
  },
  {
   "cell_type": "markdown",
   "metadata": {},
   "source": [
    "### Band pass filtering and events"
   ]
  },
  {
   "cell_type": "code",
   "execution_count": null,
   "metadata": {},
   "outputs": [],
   "source": [
    "eeg_file_path = 'data/eeg_data_A/'\n",
    "\n",
    "eeg_training_files = glob.glob('data/eeg_data_A/A0*T.gdf')\n",
    "eeg_eval_files = glob.glob(os.path.join(eeg_file_path, 'A0*E.gdf'))\n",
    "\n",
    "print(eeg_training_files)\n",
    "eeg_channels = 25\n",
    "\n",
    "raw_eeg_objects = []  # list to store raw objects\n",
    "eeg_epoch_objects = []\n",
    "\n",
    "eeg_train_obj, epoch_train_obj = utils.band_pass_filter(eeg_training_files)\n",
    "eeg_eval_obj, epoch_eval_obj = utils.band_pass_filter(eeg_eval_files)"
   ]
  },
  {
   "cell_type": "markdown",
   "metadata": {},
   "source": [
    "Convert to PyTorch Tensors <br>\n",
    "The size will be equal to [Number of EEG Recordings, Number of Channels, Number of Time Points]"
   ]
  },
  {
   "cell_type": "code",
   "execution_count": 3,
   "metadata": {},
   "outputs": [
    {
     "name": "stdout",
     "output_type": "stream",
     "text": [
      "{'32766': 5, '768': 6, '769': 7, '770': 8, '771': 9, '772': 10, '276/32766': 11, '277/32766': 12, '1072/32766': 13, '1023/768': 14}\n",
      "{'32766': 5, '768': 6, '769': 7, '770': 8, '771': 9, '772': 10, '276/32766': 11, '277/32766': 12, '1072/32766': 13, '1023/768': 14}\n",
      "{'32766': 5, '768': 6, '769': 7, '770': 8, '771': 9, '772': 10, '276/32766': 11, '277/32766': 12, '1072/32766': 13, '1023/768': 14}\n",
      "{'32766': 5, '768': 6, '769': 7, '770': 8, '771': 9, '772': 10, '276/32766': 11, '277/32766': 12, '1072/32766': 13, '1023/768': 14}\n",
      "{'32766': 5, '768': 6, '769': 7, '770': 8, '771': 9, '772': 10, '276/32766': 11, '277/32766': 12, '1072/32766': 13, '1023/768': 14}\n",
      "{'32766': 5, '768': 6, '769': 7, '770': 8, '771': 9, '772': 10, '276/32766': 11, '277/32766': 12, '1072/32766': 13, '1023/768': 14}\n",
      "{'32766': 3, '768': 4, '769': 5, '770': 6, '771': 7, '772': 8, '1072/32766': 9, '1023/768': 10}\n",
      "{'32766': 5, '768': 6, '769': 7, '770': 8, '771': 9, '772': 10, '276/32766': 11, '277/32766': 12, '1072/32766': 13, '1023/768': 14}\n",
      "{'32766': 5, '768': 6, '769': 7, '770': 8, '771': 9, '772': 10, '276/32766': 11, '277/32766': 12, '1072/32766': 13, '1023/768': 14}\n"
     ]
    }
   ],
   "source": [
    "eeg_train_data = utils.raw_to_tensor(eeg_train_obj)\n",
    "eeg_eval_data = utils.raw_to_tensor(eeg_eval_obj)\n",
    "\n",
    "for epoch in epoch_train_obj:\n",
    "    print(epoch.event_id)"
   ]
  },
  {
   "cell_type": "markdown",
   "metadata": {},
   "source": [
    "Create training data by data augmentation"
   ]
  },
  {
   "cell_type": "code",
   "execution_count": 4,
   "metadata": {},
   "outputs": [],
   "source": [
    "eeg_train_data = np.transpose(eeg_train_data)\n",
    "eeg_train_data = np.expand_dims(eeg_train_data, axis=1)"
   ]
  },
  {
   "cell_type": "code",
   "execution_count": 5,
   "metadata": {},
   "outputs": [],
   "source": [
    "class EEGDataset(Dataset):\n",
    "    def __init__(self, data, labels):\n",
    "        self.data = data\n",
    "        self.labels = labels\n",
    "    \n",
    "    def __len__(self):\n",
    "        return len(self.data)\n",
    "    \n",
    "    def __get_item__(self, idx):\n",
    "        sample = self.data[idx]\n",
    "        label = self.labels[idx]\n",
    "        return sample, label\n"
   ]
  },
  {
   "cell_type": "code",
   "execution_count": null,
   "metadata": {},
   "outputs": [],
   "source": []
  }
 ],
 "metadata": {
  "kernelspec": {
   "display_name": "Python 3",
   "language": "python",
   "name": "python3"
  },
  "language_info": {
   "codemirror_mode": {
    "name": "ipython",
    "version": 3
   },
   "file_extension": ".py",
   "mimetype": "text/x-python",
   "name": "python",
   "nbconvert_exporter": "python",
   "pygments_lexer": "ipython3",
   "version": "3.11.5"
  }
 },
 "nbformat": 4,
 "nbformat_minor": 2
}
