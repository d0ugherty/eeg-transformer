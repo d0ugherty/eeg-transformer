{
 "cells": [
  {
   "cell_type": "code",
   "execution_count": 1,
   "metadata": {},
   "outputs": [],
   "source": [
    "import numpy as np\n",
    "import glob\n",
    "import os\n",
    "import pandas as pd\n",
    "import scipy.signal as signal\n",
    "import mne\n",
    "import random\n",
    "import torchvision\n",
    "import torch\n",
    "from torch import nn, optim\n",
    "from torch.utils.data import DataLoader, Dataset, random_split\n",
    "from torchvision.datasets import DatasetFolder\n",
    "\n",
    "from mne import preprocessing, Epochs\n",
    "import utils\n",
    "import matplotlib.pyplot as plt"
   ]
  },
  {
   "cell_type": "markdown",
   "metadata": {},
   "source": [
    "## Data pre-processing"
   ]
  },
  {
   "cell_type": "markdown",
   "metadata": {},
   "source": [
    "### Band pass filtering and events"
   ]
  },
  {
   "cell_type": "code",
   "execution_count": 2,
   "metadata": {},
   "outputs": [
    {
     "name": "stdout",
     "output_type": "stream",
     "text": [
      "Extracting EDF parameters from /run/media/thomas/hdd/repos/eeg-transformer/data/eeg_data_A/A09T.gdf...\n",
      "GDF file detected\n",
      "Setting channel info structure...\n",
      "Could not determine channel type of the following channels, they will be set as EEG:\n",
      "EEG-Fz, EEG, EEG, EEG, EEG, EEG, EEG, EEG-C3, EEG, EEG-Cz, EEG, EEG-C4, EEG, EEG, EEG, EEG, EEG, EEG, EEG, EEG-Pz, EEG, EEG, EOG-left, EOG-central, EOG-right\n",
      "Creating raw.info structure...\n",
      "Reading 0 ... 673327  =      0.000 ...  2693.308 secs...\n"
     ]
    },
    {
     "name": "stderr",
     "output_type": "stream",
     "text": [
      "/usr/lib/python3.11/contextlib.py:144: RuntimeWarning: Channel names are not unique, found duplicates for: {'EEG'}. Applying running numbers for duplicates.\n",
      "  next(self.gen)\n"
     ]
    },
    {
     "name": "stdout",
     "output_type": "stream",
     "text": [
      "data/eeg_data_A/A09T.gdf\n",
      "Used Annotations descriptions: ['1023', '1072', '276', '277', '32766', '768', '769', '770', '771', '772']\n",
      "EVENT ID: {'1023': 1, '1072': 2, '276': 3, '277': 4, '32766': 5, '768': 6, '769': 7, '770': 8, '771': 9, '772': 10}\n",
      "Multiple event values for single event times found. Creating new event value to reflect simultaneous events.\n",
      "Not setting metadata\n",
      "585 matching events found\n",
      "Setting baseline interval to [-0.3, 0.0] s\n",
      "Applying baseline correction (mode: mean)\n",
      "0 projection items activated\n",
      "Using data from preloaded Raw for 585 events and 251 original time points ...\n",
      "1 bad epochs dropped\n",
      "Extracting EDF parameters from /run/media/thomas/hdd/repos/eeg-transformer/data/eeg_data_A/A06T.gdf...\n",
      "GDF file detected\n",
      "Setting channel info structure...\n",
      "Could not determine channel type of the following channels, they will be set as EEG:\n",
      "EEG-Fz, EEG, EEG, EEG, EEG, EEG, EEG, EEG-C3, EEG, EEG-Cz, EEG, EEG-C4, EEG, EEG, EEG, EEG, EEG, EEG, EEG, EEG-Pz, EEG, EEG, EOG-left, EOG-central, EOG-right\n",
      "Creating raw.info structure...\n",
      "Reading 0 ... 678979  =      0.000 ...  2715.916 secs...\n"
     ]
    },
    {
     "name": "stderr",
     "output_type": "stream",
     "text": [
      "/usr/lib/python3.11/contextlib.py:144: RuntimeWarning: Channel names are not unique, found duplicates for: {'EEG'}. Applying running numbers for duplicates.\n",
      "  next(self.gen)\n"
     ]
    },
    {
     "name": "stdout",
     "output_type": "stream",
     "text": [
      "data/eeg_data_A/A06T.gdf\n",
      "Used Annotations descriptions: ['1023', '1072', '276', '277', '32766', '768', '769', '770', '771', '772']\n",
      "EVENT ID: {'1023': 1, '1072': 2, '276': 3, '277': 4, '32766': 5, '768': 6, '769': 7, '770': 8, '771': 9, '772': 10}\n",
      "Multiple event values for single event times found. Creating new event value to reflect simultaneous events.\n",
      "Not setting metadata\n",
      "585 matching events found\n",
      "Setting baseline interval to [-0.3, 0.0] s\n",
      "Applying baseline correction (mode: mean)\n",
      "0 projection items activated\n",
      "Using data from preloaded Raw for 585 events and 251 original time points ...\n",
      "1 bad epochs dropped\n",
      "Extracting EDF parameters from /run/media/thomas/hdd/repos/eeg-transformer/data/eeg_data_A/A07T.gdf...\n",
      "GDF file detected\n",
      "Setting channel info structure...\n",
      "Could not determine channel type of the following channels, they will be set as EEG:\n",
      "EEG-Fz, EEG, EEG, EEG, EEG, EEG, EEG, EEG-C3, EEG, EEG-Cz, EEG, EEG-C4, EEG, EEG, EEG, EEG, EEG, EEG, EEG, EEG-Pz, EEG, EEG, EOG-left, EOG-central, EOG-right\n",
      "Creating raw.info structure...\n",
      "Reading 0 ... 681070  =      0.000 ...  2724.280 secs...\n"
     ]
    },
    {
     "name": "stderr",
     "output_type": "stream",
     "text": [
      "/usr/lib/python3.11/contextlib.py:144: RuntimeWarning: Channel names are not unique, found duplicates for: {'EEG'}. Applying running numbers for duplicates.\n",
      "  next(self.gen)\n"
     ]
    },
    {
     "name": "stdout",
     "output_type": "stream",
     "text": [
      "data/eeg_data_A/A07T.gdf\n",
      "Used Annotations descriptions: ['1023', '1072', '276', '277', '32766', '768', '769', '770', '771', '772']\n",
      "EVENT ID: {'1023': 1, '1072': 2, '276': 3, '277': 4, '32766': 5, '768': 6, '769': 7, '770': 8, '771': 9, '772': 10}\n",
      "Multiple event values for single event times found. Creating new event value to reflect simultaneous events.\n",
      "Not setting metadata\n",
      "585 matching events found\n",
      "Setting baseline interval to [-0.3, 0.0] s\n",
      "Applying baseline correction (mode: mean)\n",
      "0 projection items activated\n",
      "Using data from preloaded Raw for 585 events and 251 original time points ...\n",
      "1 bad epochs dropped\n",
      "Extracting EDF parameters from /run/media/thomas/hdd/repos/eeg-transformer/data/eeg_data_A/A08T.gdf...\n",
      "GDF file detected\n",
      "Setting channel info structure...\n",
      "Could not determine channel type of the following channels, they will be set as EEG:\n",
      "EEG-Fz, EEG, EEG, EEG, EEG, EEG, EEG, EEG-C3, EEG, EEG-Cz, EEG, EEG-C4, EEG, EEG, EEG, EEG, EEG, EEG, EEG, EEG-Pz, EEG, EEG, EOG-left, EOG-central, EOG-right\n",
      "Creating raw.info structure...\n",
      "Reading 0 ... 675269  =      0.000 ...  2701.076 secs...\n"
     ]
    },
    {
     "name": "stderr",
     "output_type": "stream",
     "text": [
      "/usr/lib/python3.11/contextlib.py:144: RuntimeWarning: Channel names are not unique, found duplicates for: {'EEG'}. Applying running numbers for duplicates.\n",
      "  next(self.gen)\n"
     ]
    },
    {
     "name": "stdout",
     "output_type": "stream",
     "text": [
      "data/eeg_data_A/A08T.gdf\n",
      "Used Annotations descriptions: ['1023', '1072', '276', '277', '32766', '768', '769', '770', '771', '772']\n",
      "EVENT ID: {'1023': 1, '1072': 2, '276': 3, '277': 4, '32766': 5, '768': 6, '769': 7, '770': 8, '771': 9, '772': 10}\n",
      "Multiple event values for single event times found. Creating new event value to reflect simultaneous events.\n",
      "Not setting metadata\n",
      "585 matching events found\n",
      "Setting baseline interval to [-0.3, 0.0] s\n",
      "Applying baseline correction (mode: mean)\n",
      "0 projection items activated\n",
      "Using data from preloaded Raw for 585 events and 251 original time points ...\n",
      "1 bad epochs dropped\n",
      "Extracting EDF parameters from /run/media/thomas/hdd/repos/eeg-transformer/data/eeg_data_A/A09E.gdf...\n",
      "GDF file detected\n",
      "Setting channel info structure...\n",
      "Could not determine channel type of the following channels, they will be set as EEG:\n",
      "EEG-Fz, EEG, EEG, EEG, EEG, EEG, EEG, EEG-C3, EEG, EEG-Cz, EEG, EEG-C4, EEG, EEG, EEG, EEG, EEG, EEG, EEG, EEG-Pz, EEG, EEG, EOG-left, EOG-central, EOG-right\n",
      "Creating raw.info structure...\n",
      "Reading 0 ... 675097  =      0.000 ...  2700.388 secs...\n"
     ]
    },
    {
     "name": "stderr",
     "output_type": "stream",
     "text": [
      "/usr/lib/python3.11/contextlib.py:144: RuntimeWarning: Channel names are not unique, found duplicates for: {'EEG'}. Applying running numbers for duplicates.\n",
      "  next(self.gen)\n"
     ]
    },
    {
     "name": "stdout",
     "output_type": "stream",
     "text": [
      "data/eeg_data_A/A09E.gdf\n",
      "Used Annotations descriptions: ['1023', '1072', '276', '277', '32766', '768', '783']\n",
      "EVENT ID: {'1023': 1, '1072': 2, '276': 3, '277': 4, '32766': 5, '768': 6, '783': 7}\n",
      "Multiple event values for single event times found. Creating new event value to reflect simultaneous events.\n",
      "Not setting metadata\n",
      "585 matching events found\n",
      "Setting baseline interval to [-0.3, 0.0] s\n",
      "Applying baseline correction (mode: mean)\n",
      "0 projection items activated\n",
      "Using data from preloaded Raw for 585 events and 251 original time points ...\n",
      "1 bad epochs dropped\n",
      "Extracting EDF parameters from /run/media/thomas/hdd/repos/eeg-transformer/data/eeg_data_A/A06E.gdf...\n",
      "GDF file detected\n",
      "Setting channel info structure...\n",
      "Could not determine channel type of the following channels, they will be set as EEG:\n",
      "EEG-Fz, EEG, EEG, EEG, EEG, EEG, EEG, EEG-C3, EEG, EEG-Cz, EEG, EEG-C4, EEG, EEG, EEG, EEG, EEG, EEG, EEG, EEG-Pz, EEG, EEG, EOG-left, EOG-central, EOG-right\n",
      "Creating raw.info structure...\n",
      "Reading 0 ... 666372  =      0.000 ...  2665.488 secs...\n"
     ]
    },
    {
     "name": "stderr",
     "output_type": "stream",
     "text": [
      "/usr/lib/python3.11/contextlib.py:144: RuntimeWarning: Channel names are not unique, found duplicates for: {'EEG'}. Applying running numbers for duplicates.\n",
      "  next(self.gen)\n"
     ]
    },
    {
     "name": "stdout",
     "output_type": "stream",
     "text": [
      "data/eeg_data_A/A06E.gdf\n",
      "Used Annotations descriptions: ['1023', '1072', '276', '277', '32766', '768', '783']\n",
      "EVENT ID: {'1023': 1, '1072': 2, '276': 3, '277': 4, '32766': 5, '768': 6, '783': 7}\n",
      "Multiple event values for single event times found. Creating new event value to reflect simultaneous events.\n",
      "Not setting metadata\n",
      "585 matching events found\n",
      "Setting baseline interval to [-0.3, 0.0] s\n",
      "Applying baseline correction (mode: mean)\n",
      "0 projection items activated\n",
      "Using data from preloaded Raw for 585 events and 251 original time points ...\n",
      "1 bad epochs dropped\n",
      "Extracting EDF parameters from /run/media/thomas/hdd/repos/eeg-transformer/data/eeg_data_A/A08E.gdf...\n",
      "GDF file detected\n",
      "Setting channel info structure...\n",
      "Could not determine channel type of the following channels, they will be set as EEG:\n",
      "EEG-Fz, EEG, EEG, EEG, EEG, EEG, EEG, EEG-C3, EEG, EEG-Cz, EEG, EEG-C4, EEG, EEG, EEG, EEG, EEG, EEG, EEG, EEG-Pz, EEG, EEG, EOG-left, EOG-central, EOG-right\n",
      "Creating raw.info structure...\n",
      "Reading 0 ... 687791  =      0.000 ...  2751.164 secs...\n"
     ]
    },
    {
     "name": "stderr",
     "output_type": "stream",
     "text": [
      "/usr/lib/python3.11/contextlib.py:144: RuntimeWarning: Channel names are not unique, found duplicates for: {'EEG'}. Applying running numbers for duplicates.\n",
      "  next(self.gen)\n"
     ]
    },
    {
     "name": "stdout",
     "output_type": "stream",
     "text": [
      "data/eeg_data_A/A08E.gdf\n",
      "Used Annotations descriptions: ['1023', '1072', '276', '277', '32766', '768', '783']\n",
      "EVENT ID: {'1023': 1, '1072': 2, '276': 3, '277': 4, '32766': 5, '768': 6, '783': 7}\n",
      "Multiple event values for single event times found. Creating new event value to reflect simultaneous events.\n",
      "Not setting metadata\n",
      "585 matching events found\n",
      "Setting baseline interval to [-0.3, 0.0] s\n",
      "Applying baseline correction (mode: mean)\n",
      "0 projection items activated\n",
      "Using data from preloaded Raw for 585 events and 251 original time points ...\n",
      "1 bad epochs dropped\n",
      "Extracting EDF parameters from /run/media/thomas/hdd/repos/eeg-transformer/data/eeg_data_A/A07E.gdf...\n",
      "GDF file detected\n",
      "Setting channel info structure...\n",
      "Could not determine channel type of the following channels, they will be set as EEG:\n",
      "EEG-Fz, EEG, EEG, EEG, EEG, EEG, EEG, EEG-C3, EEG, EEG-Cz, EEG, EEG-C4, EEG, EEG, EEG, EEG, EEG, EEG, EEG, EEG-Pz, EEG, EEG, EOG-left, EOG-central, EOG-right\n",
      "Creating raw.info structure...\n",
      "Reading 0 ... 673134  =      0.000 ...  2692.536 secs...\n"
     ]
    },
    {
     "name": "stderr",
     "output_type": "stream",
     "text": [
      "/usr/lib/python3.11/contextlib.py:144: RuntimeWarning: Channel names are not unique, found duplicates for: {'EEG'}. Applying running numbers for duplicates.\n",
      "  next(self.gen)\n"
     ]
    },
    {
     "name": "stdout",
     "output_type": "stream",
     "text": [
      "data/eeg_data_A/A07E.gdf\n",
      "Used Annotations descriptions: ['1023', '1072', '276', '277', '32766', '768', '783']\n",
      "EVENT ID: {'1023': 1, '1072': 2, '276': 3, '277': 4, '32766': 5, '768': 6, '783': 7}\n",
      "Multiple event values for single event times found. Creating new event value to reflect simultaneous events.\n",
      "Not setting metadata\n",
      "585 matching events found\n",
      "Setting baseline interval to [-0.3, 0.0] s\n",
      "Applying baseline correction (mode: mean)\n",
      "0 projection items activated\n",
      "Using data from preloaded Raw for 585 events and 251 original time points ...\n",
      "1 bad epochs dropped\n"
     ]
    }
   ],
   "source": [
    "eeg_file_path = 'data/eeg_data_A/'\n",
    "eeg_training_files = glob.glob('data/eeg_data_A/A0*T.gdf')\n",
    "\n",
    "eeg_eval_files = glob.glob(os.path.join(eeg_file_path, 'A0*E.gdf'))\n",
    "\n",
    "eeg_train_obj, epoch_train_obj = utils.band_pass_filter(eeg_training_files)\n",
    "eeg_eval_obj, epoch_eval_obj = utils.band_pass_filter(eeg_eval_files)\n"
   ]
  },
  {
   "cell_type": "code",
   "execution_count": 3,
   "metadata": {},
   "outputs": [
    {
     "name": "stdout",
     "output_type": "stream",
     "text": [
      "2724\n"
     ]
    }
   ],
   "source": [
    "eeg_data = utils.raw_to_tensor(eeg_train_obj)\n",
    "eeg_test_data = utils.raw_to_tensor(eeg_eval_obj)\n",
    "split_size = 1000  \n",
    "\n",
    "smaller_tensors = []\n",
    "test_tensors = []\n",
    "\n",
    "for tensor in eeg_data:  # Assuming eeg_data is your original dataset\n",
    "    splits = utils.split_tensor(tensor, split_size)\n",
    "    smaller_tensors.extend(splits)\n",
    "\n",
    "for tensor in eeg_test_data:  # Assuming eeg_data is your original dataset\n",
    "    splits = utils.split_tensor(tensor, split_size)\n",
    "    test_tensors.extend(splits)\n",
    "\n",
    "print(len(smaller_tensors))"
   ]
  },
  {
   "cell_type": "code",
   "execution_count": 4,
   "metadata": {},
   "outputs": [
    {
     "name": "stderr",
     "output_type": "stream",
     "text": [
      "/tmp/ipykernel_332411/1977489221.py:36: UserWarning: To copy construct from a tensor, it is recommended to use sourceTensor.clone().detach() or sourceTensor.clone().detach().requires_grad_(True), rather than torch.tensor(sourceTensor).\n",
      "  padded_tensors = [pad_tensor(torch.tensor(tensor, dtype=torch.float32), max_length) for tensor in aug_data]\n"
     ]
    }
   ],
   "source": [
    "\n",
    "class EEGDataset(Dataset):\n",
    "    def __init__(self, data):\n",
    "        self.data = data\n",
    "\n",
    "    def __len__(self):\n",
    "        return len(self.data)\n",
    "\n",
    "    def __getitem__(self, idx):\n",
    "        return self.data[idx]\n",
    "    \n",
    "eeg_data= EEGDataset(smaller_tensors)\n",
    "eeg_test_data = EEGDataset(test_tensors)\n",
    "\n",
    "\n",
    "aug_data = []\n",
    "\n",
    "for tensor in eeg_data:\n",
    "    aug_data.append(tensor)\n",
    "    shifted_tensor = utils.time_shift(tensor.clone(), shift=10)\n",
    "    aug_data.append(shifted_tensor)\n",
    "\n",
    "    noisy_tensor = utils.add_noise(tensor.clone(), noise_level=0.1)\n",
    "    aug_data.append(noisy_tensor)\n",
    "\n",
    "    warped_tensor = utils.time_warp(tensor.clone(), factor=0.8)\n",
    "    aug_data.append(warped_tensor)\n",
    "\n",
    "\n",
    "\n",
    "max_length = max(tensor.shape[1] for tensor in aug_data)\n",
    "\n",
    "def pad_tensor(tensor, max_length):\n",
    "    padding_size = max_length - tensor.shape[1]\n",
    "    if padding_size > 0:\n",
    "        return torch.nn.functional.pad(tensor, (0, padding_size))\n",
    "    return tensor\n",
    "\n",
    "padded_tensors = [pad_tensor(torch.tensor(tensor, dtype=torch.float32), max_length) for tensor in aug_data]\n",
    "\n",
    "aug_data_set = EEGDataset(padded_tensors)\n",
    "\n",
    "eeg_data = EEGDataset(aug_data_set)"
   ]
  },
  {
   "cell_type": "code",
   "execution_count": 5,
   "metadata": {},
   "outputs": [
    {
     "name": "stdout",
     "output_type": "stream",
     "text": [
      "10896\n",
      "Number of items in training set: 8000\n",
      "Shape of first item in training set: torch.Size([25, 1000])\n",
      "Number of items in validation set: 2896\n",
      "Shape of first item in validation set: torch.Size([25, 1000])\n"
     ]
    }
   ],
   "source": [
    "print(len(eeg_data))\n",
    "\n",
    "eeg_train_set, eeg_val_set = random_split(eeg_data, [8000,2896]) \n",
    "\n",
    "\n",
    "print(\"Number of items in training set:\", len(eeg_train_set))\n",
    "print(\"Shape of first item in training set:\", eeg_train_set[0].shape)\n",
    "\n",
    "print(\"Number of items in validation set:\", len(eeg_val_set))\n",
    "print(\"Shape of first item in validation set:\", eeg_val_set[0].shape)"
   ]
  },
  {
   "cell_type": "code",
   "execution_count": 6,
   "metadata": {},
   "outputs": [],
   "source": [
    "\n",
    "BATCH_SIZE = 70\n",
    "train_loader = DataLoader(eeg_train_set, batch_size=BATCH_SIZE, shuffle=True)\n",
    "val_loader = DataLoader(eeg_val_set, batch_size=BATCH_SIZE, shuffle=True)\n",
    "test_loader = DataLoader(eeg_test_data, batch_size=BATCH_SIZE, shuffle=False)\n"
   ]
  },
  {
   "cell_type": "code",
   "execution_count": 7,
   "metadata": {},
   "outputs": [],
   "source": [
    "device = torch.device(\"cuda\" if torch.cuda.is_available() else \"cpu\")\n",
    "embed_size = 25\n",
    "nhead = 5  \n",
    "num_layers = 6  \n",
    "\n",
    "class ConvNet(nn.Module):\n",
    "    def __init__(self, dropout_rate = 0.5):\n",
    "        super(ConvNet, self).__init__()\n",
    "        self.conv1 = nn.Conv2d(1, 40, (1, 4), (1, 1))\n",
    "        self.elu1 = nn.ELU()\n",
    "        self.dropout1 = nn.Dropout(dropout_rate)\n",
    "\n",
    "        self.conv2 = nn.Conv2d(40, 40, (25, 1), (1, 1))\n",
    "        self.elu2 = nn.ELU()\n",
    "        self.dropout2 = nn.Dropout(dropout_rate)\n",
    "\n",
    "        self.flatten = nn.Flatten()\n",
    "        # Assuming the width after conv1 is 1000 - 4 + 1 = 997\n",
    "        # After conv2, the height is 1\n",
    "        output_size = 40 * 1 * 997  # 40 channels, height 1, width 997\n",
    "        self.fc1 = nn.Linear(output_size, embed_size)  # Adjusted for the correct input size\n",
    "        self.dropout3 = nn.Dropout(dropout_rate)\n",
    "\n",
    "    def forward(self, x: torch.Tensor) -> torch.Tensor:\n",
    "        x = x.unsqueeze(1) #becomes [N, 1, 25, 1000]\n",
    "        x = self.conv1(x)\n",
    "        x = self.elu1(x)\n",
    "        x = self.dropout1(x)\n",
    "\n",
    "        x = self.conv2(x)\n",
    "        x = self.elu2(x)\n",
    "        x = self.dropout2(x)\n",
    "\n",
    "        x = self.flatten(x)\n",
    "        x = self.dropout3(x)\n",
    "        x = self.fc1(x)\n",
    "        return x\n"
   ]
  },
  {
   "cell_type": "code",
   "execution_count": 8,
   "metadata": {},
   "outputs": [
    {
     "name": "stderr",
     "output_type": "stream",
     "text": [
      "/home/thomas/eegtransenv/lib/python3.11/site-packages/torch/nn/modules/transformer.py:282: UserWarning: enable_nested_tensor is True, but self.use_nested_tensor is False because encoder_layer.self_attn.batch_first was not True(use batch_first for better inference performance)\n",
      "  warnings.warn(f\"enable_nested_tensor is True, but self.use_nested_tensor is False because {why_not_sparsity_fast_path}\")\n"
     ]
    }
   ],
   "source": [
    "\n",
    "\n",
    "#transformer = nn.Transformer(d_model=d_model, nhead=nhead).to(device)\n",
    "\n",
    "conv_net = ConvNet().to(device)\n",
    "encoder_layer = nn.TransformerEncoderLayer(d_model=embed_size, nhead=nhead).to(device)\n",
    "decoder_layer = nn.TransformerDecoderLayer(d_model=embed_size, nhead=nhead).to(device)\n",
    "\n",
    "\n",
    "transformer_encoder = nn.TransformerEncoder(encoder_layer, num_layers=num_layers).to(device)\n",
    "transformer_decoder = nn.TransformerDecoder(decoder_layer, num_layers=num_layers).to(device)\n",
    "model_params = list(transformer_encoder.parameters()) + list(transformer_decoder.parameters())\n"
   ]
  },
  {
   "cell_type": "code",
   "execution_count": 9,
   "metadata": {},
   "outputs": [
    {
     "name": "stdout",
     "output_type": "stream",
     "text": [
      "Epoch: 0 Train Loss: 0.6639262950938681 Val Loss: 0.30209090809027356\n",
      "Epoch: 1 Train Loss: 0.11380248999466067 Val Loss: 0.06170620432212239\n",
      "Epoch: 2 Train Loss: 0.0573943214248056 Val Loss: 0.05362456531396934\n",
      "Epoch: 3 Train Loss: 0.051080713388712506 Val Loss: 0.04832853137382439\n",
      "Epoch: 4 Train Loss: 0.046313774391360904 Val Loss: 0.044713971249404405\n",
      "Epoch: 5 Train Loss: 0.04290222000816594 Val Loss: 0.041094400077348665\n",
      "Epoch: 6 Train Loss: 0.03961381662798964 Val Loss: 0.038963131340486665\n",
      "Epoch: 7 Train Loss: 0.037159968037968096 Val Loss: 0.036460948265379385\n",
      "Epoch: 8 Train Loss: 0.03508135320051857 Val Loss: 0.033686675397413116\n",
      "Epoch: 9 Train Loss: 0.0331398064189631 Val Loss: 0.03237176566783871\n"
     ]
    }
   ],
   "source": [
    "\n",
    "criterion = nn.MSELoss()    \n",
    "optimizer = optim.SGD(model_params, \n",
    "                        lr=0.001, \n",
    "                        momentum=0.9)\n",
    "train_losses = []\n",
    "val_losses = []\n",
    "losses = []\n",
    "n = 1\n",
    "for epoch in range(10):\n",
    "    train_loss = 0.0\n",
    "    #transformer.train()\n",
    "\n",
    "    for batch in train_loader: \n",
    "        src_data = batch\n",
    "        src_data = src_data.cuda()\n",
    "\n",
    "        optimizer.zero_grad()\n",
    "        \n",
    "        src_data = conv_net(src_data)\n",
    "       \n",
    "        memory = transformer_encoder(src_data)\n",
    "        \n",
    "        out_batch = transformer_decoder(src_data, memory)\n",
    "        loss = criterion(out_batch, src_data)\n",
    "        loss.backward()\n",
    "        optimizer.step()\n",
    "        train_loss += loss.item()\n",
    "\n",
    "        avg_train_loss = train_loss / len(train_loader)\n",
    "        train_losses.append(avg_train_loss)\n",
    "        n += 1\n",
    "    \n",
    "    val_loss = 0.0\n",
    "    for batch in val_loader:\n",
    "        src_data = batch\n",
    "        src_data = src_data.cuda()\n",
    "        src_data = conv_net(src_data)\n",
    "    \n",
    "\n",
    "        memory = transformer_encoder(src_data)\n",
    "        #print(\"Validation Decoding...\")\n",
    "        out_batch = transformer_decoder(src_data, memory)\n",
    "        loss = criterion(out_batch, src_data)\n",
    "        avg_val_loss = val_loss / len(val_loader)\n",
    "        val_losses.append(avg_val_loss)\n",
    "        val_loss += loss.item()\n",
    "\n",
    "   \n",
    "\n",
    "    print(\"Epoch: {} Train Loss: {} Val Loss: {}\".format(\n",
    "                  epoch, \n",
    "                  train_loss/len(train_loader), \n",
    "                  val_loss/len(val_loader)))\n"
   ]
  },
  {
   "cell_type": "code",
   "execution_count": 10,
   "metadata": {},
   "outputs": [
    {
     "data": {
      "image/png": "[encoded data removed]",
      "text/plain": [
       "<Figure size 1000x600 with 1 Axes>"
      ]
     },
     "metadata": {},
     "output_type": "display_data"
    }
   ],
   "source": [
    "\n",
    "plt.figure(figsize=(10, 6))\n",
    "plt.plot(train_losses, label='Training Loss')\n",
    "plt.plot(val_losses, label='Validation Loss')\n",
    "plt.title('Training and Validation Loss')\n",
    "plt.xlabel('Epochs')\n",
    "plt.ylabel('Loss')\n",
    "plt.legend()\n",
    "plt.show()"
   ]
  },
  {
   "cell_type": "code",
   "execution_count": 11,
   "metadata": {},
   "outputs": [
    {
     "ename": "OutOfMemoryError",
     "evalue": "CUDA out of memory. Tried to allocate 10.25 GiB. GPU 0 has a total capacty of 5.79 GiB of which 4.19 GiB is free. Including non-PyTorch memory, this process has 984.00 MiB memory in use. Of the allocated memory 543.75 MiB is allocated by PyTorch, and 322.25 MiB is reserved by PyTorch but unallocated. If reserved but unallocated memory is large try setting max_split_size_mb to avoid fragmentation.  See documentation for Memory Management and PYTORCH_CUDA_ALLOC_CONF",
     "output_type": "error",
     "traceback": [
      "\u001b[0;31m---------------------------------------------------------------------------\u001b[0m",
      "\u001b[0;31mOutOfMemoryError\u001b[0m                          Traceback (most recent call last)",
      "\u001b[1;32m/run/media/thomas/hdd/repos/eeg-transformer/eeg_transformer.ipynb Cell 13\u001b[0m line \u001b[0;36m9\n\u001b[1;32m      <a href='vscode-notebook-cell:/run/media/thomas/hdd/repos/eeg-transformer/eeg_transformer.ipynb#X24sZmlsZQ%3D%3D?line=5'>6</a>\u001b[0m src_data \u001b[39m=\u001b[39m src_data\u001b[39m.\u001b[39mcuda()\n\u001b[1;32m      <a href='vscode-notebook-cell:/run/media/thomas/hdd/repos/eeg-transformer/eeg_transformer.ipynb#X24sZmlsZQ%3D%3D?line=7'>8</a>\u001b[0m \u001b[39m# Forward pass through the model\u001b[39;00m\n\u001b[0;32m----> <a href='vscode-notebook-cell:/run/media/thomas/hdd/repos/eeg-transformer/eeg_transformer.ipynb#X24sZmlsZQ%3D%3D?line=8'>9</a>\u001b[0m src_data \u001b[39m=\u001b[39m conv_net(src_data)  \u001b[39m# If using convolutional network\u001b[39;00m\n\u001b[1;32m     <a href='vscode-notebook-cell:/run/media/thomas/hdd/repos/eeg-transformer/eeg_transformer.ipynb#X24sZmlsZQ%3D%3D?line=9'>10</a>\u001b[0m memory \u001b[39m=\u001b[39m transformer_encoder(src_data)\n\u001b[1;32m     <a href='vscode-notebook-cell:/run/media/thomas/hdd/repos/eeg-transformer/eeg_transformer.ipynb#X24sZmlsZQ%3D%3D?line=10'>11</a>\u001b[0m out_batch \u001b[39m=\u001b[39m transformer_decoder(src_data, memory)\n",
      "File \u001b[0;32m~/eegtransenv/lib/python3.11/site-packages/torch/nn/modules/module.py:1518\u001b[0m, in \u001b[0;36mModule._wrapped_call_impl\u001b[0;34m(self, *args, **kwargs)\u001b[0m\n\u001b[1;32m   1516\u001b[0m     \u001b[39mreturn\u001b[39;00m \u001b[39mself\u001b[39m\u001b[39m.\u001b[39m_compiled_call_impl(\u001b[39m*\u001b[39margs, \u001b[39m*\u001b[39m\u001b[39m*\u001b[39mkwargs)  \u001b[39m# type: ignore[misc]\u001b[39;00m\n\u001b[1;32m   1517\u001b[0m \u001b[39melse\u001b[39;00m:\n\u001b[0;32m-> 1518\u001b[0m     \u001b[39mreturn\u001b[39;00m \u001b[39mself\u001b[39;49m\u001b[39m.\u001b[39;49m_call_impl(\u001b[39m*\u001b[39;49margs, \u001b[39m*\u001b[39;49m\u001b[39m*\u001b[39;49mkwargs)\n",
      "File \u001b[0;32m~/eegtransenv/lib/python3.11/site-packages/torch/nn/modules/module.py:1527\u001b[0m, in \u001b[0;36mModule._call_impl\u001b[0;34m(self, *args, **kwargs)\u001b[0m\n\u001b[1;32m   1522\u001b[0m \u001b[39m# If we don't have any hooks, we want to skip the rest of the logic in\u001b[39;00m\n\u001b[1;32m   1523\u001b[0m \u001b[39m# this function, and just call forward.\u001b[39;00m\n\u001b[1;32m   1524\u001b[0m \u001b[39mif\u001b[39;00m \u001b[39mnot\u001b[39;00m (\u001b[39mself\u001b[39m\u001b[39m.\u001b[39m_backward_hooks \u001b[39mor\u001b[39;00m \u001b[39mself\u001b[39m\u001b[39m.\u001b[39m_backward_pre_hooks \u001b[39mor\u001b[39;00m \u001b[39mself\u001b[39m\u001b[39m.\u001b[39m_forward_hooks \u001b[39mor\u001b[39;00m \u001b[39mself\u001b[39m\u001b[39m.\u001b[39m_forward_pre_hooks\n\u001b[1;32m   1525\u001b[0m         \u001b[39mor\u001b[39;00m _global_backward_pre_hooks \u001b[39mor\u001b[39;00m _global_backward_hooks\n\u001b[1;32m   1526\u001b[0m         \u001b[39mor\u001b[39;00m _global_forward_hooks \u001b[39mor\u001b[39;00m _global_forward_pre_hooks):\n\u001b[0;32m-> 1527\u001b[0m     \u001b[39mreturn\u001b[39;00m forward_call(\u001b[39m*\u001b[39;49margs, \u001b[39m*\u001b[39;49m\u001b[39m*\u001b[39;49mkwargs)\n\u001b[1;32m   1529\u001b[0m \u001b[39mtry\u001b[39;00m:\n\u001b[1;32m   1530\u001b[0m     result \u001b[39m=\u001b[39m \u001b[39mNone\u001b[39;00m\n",
      "\u001b[1;32m/run/media/thomas/hdd/repos/eeg-transformer/eeg_transformer.ipynb Cell 13\u001b[0m line \u001b[0;36m2\n\u001b[1;32m     <a href='vscode-notebook-cell:/run/media/thomas/hdd/repos/eeg-transformer/eeg_transformer.ipynb#X24sZmlsZQ%3D%3D?line=23'>24</a>\u001b[0m \u001b[39mdef\u001b[39;00m \u001b[39mforward\u001b[39m(\u001b[39mself\u001b[39m, x: torch\u001b[39m.\u001b[39mTensor) \u001b[39m-\u001b[39m\u001b[39m>\u001b[39m torch\u001b[39m.\u001b[39mTensor:\n\u001b[1;32m     <a href='vscode-notebook-cell:/run/media/thomas/hdd/repos/eeg-transformer/eeg_transformer.ipynb#X24sZmlsZQ%3D%3D?line=24'>25</a>\u001b[0m     x \u001b[39m=\u001b[39m x\u001b[39m.\u001b[39munsqueeze(\u001b[39m1\u001b[39m) \u001b[39m#becomes [N, 1, 25, 1000]\u001b[39;00m\n\u001b[0;32m---> <a href='vscode-notebook-cell:/run/media/thomas/hdd/repos/eeg-transformer/eeg_transformer.ipynb#X24sZmlsZQ%3D%3D?line=25'>26</a>\u001b[0m     x \u001b[39m=\u001b[39m \u001b[39mself\u001b[39;49m\u001b[39m.\u001b[39;49mconv1(x)\n\u001b[1;32m     <a href='vscode-notebook-cell:/run/media/thomas/hdd/repos/eeg-transformer/eeg_transformer.ipynb#X24sZmlsZQ%3D%3D?line=26'>27</a>\u001b[0m     x \u001b[39m=\u001b[39m \u001b[39mself\u001b[39m\u001b[39m.\u001b[39melu1(x)\n\u001b[1;32m     <a href='vscode-notebook-cell:/run/media/thomas/hdd/repos/eeg-transformer/eeg_transformer.ipynb#X24sZmlsZQ%3D%3D?line=27'>28</a>\u001b[0m     x \u001b[39m=\u001b[39m \u001b[39mself\u001b[39m\u001b[39m.\u001b[39mdropout1(x)\n",
      "File \u001b[0;32m~/eegtransenv/lib/python3.11/site-packages/torch/nn/modules/module.py:1518\u001b[0m, in \u001b[0;36mModule._wrapped_call_impl\u001b[0;34m(self, *args, **kwargs)\u001b[0m\n\u001b[1;32m   1516\u001b[0m     \u001b[39mreturn\u001b[39;00m \u001b[39mself\u001b[39m\u001b[39m.\u001b[39m_compiled_call_impl(\u001b[39m*\u001b[39margs, \u001b[39m*\u001b[39m\u001b[39m*\u001b[39mkwargs)  \u001b[39m# type: ignore[misc]\u001b[39;00m\n\u001b[1;32m   1517\u001b[0m \u001b[39melse\u001b[39;00m:\n\u001b[0;32m-> 1518\u001b[0m     \u001b[39mreturn\u001b[39;00m \u001b[39mself\u001b[39;49m\u001b[39m.\u001b[39;49m_call_impl(\u001b[39m*\u001b[39;49margs, \u001b[39m*\u001b[39;49m\u001b[39m*\u001b[39;49mkwargs)\n",
      "File \u001b[0;32m~/eegtransenv/lib/python3.11/site-packages/torch/nn/modules/module.py:1527\u001b[0m, in \u001b[0;36mModule._call_impl\u001b[0;34m(self, *args, **kwargs)\u001b[0m\n\u001b[1;32m   1522\u001b[0m \u001b[39m# If we don't have any hooks, we want to skip the rest of the logic in\u001b[39;00m\n\u001b[1;32m   1523\u001b[0m \u001b[39m# this function, and just call forward.\u001b[39;00m\n\u001b[1;32m   1524\u001b[0m \u001b[39mif\u001b[39;00m \u001b[39mnot\u001b[39;00m (\u001b[39mself\u001b[39m\u001b[39m.\u001b[39m_backward_hooks \u001b[39mor\u001b[39;00m \u001b[39mself\u001b[39m\u001b[39m.\u001b[39m_backward_pre_hooks \u001b[39mor\u001b[39;00m \u001b[39mself\u001b[39m\u001b[39m.\u001b[39m_forward_hooks \u001b[39mor\u001b[39;00m \u001b[39mself\u001b[39m\u001b[39m.\u001b[39m_forward_pre_hooks\n\u001b[1;32m   1525\u001b[0m         \u001b[39mor\u001b[39;00m _global_backward_pre_hooks \u001b[39mor\u001b[39;00m _global_backward_hooks\n\u001b[1;32m   1526\u001b[0m         \u001b[39mor\u001b[39;00m _global_forward_hooks \u001b[39mor\u001b[39;00m _global_forward_pre_hooks):\n\u001b[0;32m-> 1527\u001b[0m     \u001b[39mreturn\u001b[39;00m forward_call(\u001b[39m*\u001b[39;49margs, \u001b[39m*\u001b[39;49m\u001b[39m*\u001b[39;49mkwargs)\n\u001b[1;32m   1529\u001b[0m \u001b[39mtry\u001b[39;00m:\n\u001b[1;32m   1530\u001b[0m     result \u001b[39m=\u001b[39m \u001b[39mNone\u001b[39;00m\n",
      "File \u001b[0;32m~/eegtransenv/lib/python3.11/site-packages/torch/nn/modules/conv.py:460\u001b[0m, in \u001b[0;36mConv2d.forward\u001b[0;34m(self, input)\u001b[0m\n\u001b[1;32m    459\u001b[0m \u001b[39mdef\u001b[39;00m \u001b[39mforward\u001b[39m(\u001b[39mself\u001b[39m, \u001b[39minput\u001b[39m: Tensor) \u001b[39m-\u001b[39m\u001b[39m>\u001b[39m Tensor:\n\u001b[0;32m--> 460\u001b[0m     \u001b[39mreturn\u001b[39;00m \u001b[39mself\u001b[39;49m\u001b[39m.\u001b[39;49m_conv_forward(\u001b[39minput\u001b[39;49m, \u001b[39mself\u001b[39;49m\u001b[39m.\u001b[39;49mweight, \u001b[39mself\u001b[39;49m\u001b[39m.\u001b[39;49mbias)\n",
      "File \u001b[0;32m~/eegtransenv/lib/python3.11/site-packages/torch/nn/modules/conv.py:456\u001b[0m, in \u001b[0;36mConv2d._conv_forward\u001b[0;34m(self, input, weight, bias)\u001b[0m\n\u001b[1;32m    452\u001b[0m \u001b[39mif\u001b[39;00m \u001b[39mself\u001b[39m\u001b[39m.\u001b[39mpadding_mode \u001b[39m!=\u001b[39m \u001b[39m'\u001b[39m\u001b[39mzeros\u001b[39m\u001b[39m'\u001b[39m:\n\u001b[1;32m    453\u001b[0m     \u001b[39mreturn\u001b[39;00m F\u001b[39m.\u001b[39mconv2d(F\u001b[39m.\u001b[39mpad(\u001b[39minput\u001b[39m, \u001b[39mself\u001b[39m\u001b[39m.\u001b[39m_reversed_padding_repeated_twice, mode\u001b[39m=\u001b[39m\u001b[39mself\u001b[39m\u001b[39m.\u001b[39mpadding_mode),\n\u001b[1;32m    454\u001b[0m                     weight, bias, \u001b[39mself\u001b[39m\u001b[39m.\u001b[39mstride,\n\u001b[1;32m    455\u001b[0m                     _pair(\u001b[39m0\u001b[39m), \u001b[39mself\u001b[39m\u001b[39m.\u001b[39mdilation, \u001b[39mself\u001b[39m\u001b[39m.\u001b[39mgroups)\n\u001b[0;32m--> 456\u001b[0m \u001b[39mreturn\u001b[39;00m F\u001b[39m.\u001b[39;49mconv2d(\u001b[39minput\u001b[39;49m, weight, bias, \u001b[39mself\u001b[39;49m\u001b[39m.\u001b[39;49mstride,\n\u001b[1;32m    457\u001b[0m                 \u001b[39mself\u001b[39;49m\u001b[39m.\u001b[39;49mpadding, \u001b[39mself\u001b[39;49m\u001b[39m.\u001b[39;49mdilation, \u001b[39mself\u001b[39;49m\u001b[39m.\u001b[39;49mgroups)\n",
      "\u001b[0;31mOutOfMemoryError\u001b[0m: CUDA out of memory. Tried to allocate 10.25 GiB. GPU 0 has a total capacty of 5.79 GiB of which 4.19 GiB is free. Including non-PyTorch memory, this process has 984.00 MiB memory in use. Of the allocated memory 543.75 MiB is allocated by PyTorch, and 322.25 MiB is reserved by PyTorch but unallocated. If reserved but unallocated memory is large try setting max_split_size_mb to avoid fragmentation.  See documentation for Memory Management and PYTORCH_CUDA_ALLOC_CONF"
     ]
    }
   ],
   "source": [
    "test_loss = 0.0\n",
    "\n",
    "with torch.no_grad():  # No gradients needed for testing\n",
    "    for batch in test_loader:  # Replace 'test_loader' with your test data loader\n",
    "        src_data = batch\n",
    "        src_data = src_data.cuda()\n",
    "\n",
    "        # Forward pass through the model\n",
    "        src_data = conv_net(src_data)  # If using convolutional network\n",
    "        memory = transformer_encoder(src_data)\n",
    "        out_batch = transformer_decoder(src_data, memory)\n",
    "\n",
    "        # Calculate loss\n",
    "        loss = criterion(out_batch, src_data)\n",
    "        test_loss += loss.item()\n",
    "\n",
    "# Calculate average test loss\n",
    "avg_test_loss = test_loss / len(test_loader)\n",
    "\n",
    "print(f\"Test Loss: {avg_test_loss}\")"
   ]
  }
 ],
 "metadata": {
  "kernelspec": {
   "display_name": "Python 3",
   "language": "python",
   "name": "python3"
  },
  "language_info": {
   "codemirror_mode": {
    "name": "ipython",
    "version": 3
   },
   "file_extension": ".py",
   "mimetype": "text/x-python",
   "name": "python",
   "nbconvert_exporter": "python",
   "pygments_lexer": "ipython3",
   "version": "3.11.5"
  }
 },
 "nbformat": 4,
 "nbformat_minor": 2
}
