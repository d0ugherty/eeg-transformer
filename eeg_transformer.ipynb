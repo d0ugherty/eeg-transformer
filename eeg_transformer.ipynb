{
 "cells": [
  {
   "cell_type": "code",
   "execution_count": null,
   "metadata": {},
   "outputs": [],
   "source": [
    "import numpy as np\n",
    "import glob\n",
    "import os\n",
    "import pandas as pd\n",
    "import scipy.signal as signal\n",
    "import mne\n",
    "import torchvision\n",
    "import torch\n",
    "from torch import nn, optim\n",
    "from torch.utils.data import DataLoader, Dataset, random_split\n",
    "from torchvision.datasets import DatasetFolder\n",
    "\n",
    "from mne import preprocessing, Epochs\n",
    "import utils\n",
    "import matplotlib.pyplot as plt"
   ]
  },
  {
   "cell_type": "markdown",
   "metadata": {},
   "source": [
    "## Data pre-processing"
   ]
  },
  {
   "cell_type": "markdown",
   "metadata": {},
   "source": [
    "### Band pass filtering and events"
   ]
  },
  {
   "cell_type": "code",
   "execution_count": null,
   "metadata": {},
   "outputs": [],
   "source": [
    "eeg_file_path = 'data/eeg_data_A/'\n",
    "eeg_training_files = glob.glob('data/eeg_data_A/A0*T.gdf')\n",
    "eeg_eval_files = glob.glob(os.path.join(eeg_file_path, 'A0*E.gdf'))\n",
    "\n",
    "eeg_train_obj, epoch_train_obj = utils.band_pass_filter(eeg_training_files)\n",
    "eeg_eval_obj, epoch_eval_obj = utils.band_pass_filter(eeg_eval_files)\n",
    "\n",
    "eeg_data = utils.raw_to_tensor(eeg_train_obj)\n",
    "eeg_test_data = utils.raw_to_tensor(eeg_eval_obj)\n",
    "\n",
    "eeg_data = np.transpose(eeg_data, (2,1,0))\n",
    "#eeg_data = np.expand_dims(eeg_data, axis=1)\n",
    "\n",
    "eeg_test_set = np.transpose(eeg_test_data, (2,1,0))\n",
    "#eeg_test_set = np.expand_dims(eeg_test_set, axis=1)"
   ]
  },
  {
   "cell_type": "code",
   "execution_count": null,
   "metadata": {},
   "outputs": [],
   "source": [
    "max_length = max(tensor.shape[0] for tensor in eeg_data)\n",
    "\n",
    "padded_tensors = []\n",
    "for tensor in eeg_data:\n",
    "    padding_size = max_length - tensor.shape[0]\n",
    "    if padding_size > 0:\n",
    "        padded_tensor = torch.nn.functional.pad(tensor, (0, 0, 0, 0, 0, padding_size))\n",
    "    else:\n",
    "        padded_tensor = tensor\n",
    "    padded_tensors.append(padded_tensor)\n",
    "\n",
    "    split_ratio = 0.8  \n",
    "print(padded_tensor)\n",
    "# Use the split_data function from utils.py\n",
    "eeg_train_set, eeg_val_set = utils.split_data(padded_tensor, eeg_training_files, split_ratio)\n"
   ]
  },
  {
   "cell_type": "code",
   "execution_count": null,
   "metadata": {},
   "outputs": [],
   "source": [
    "\n",
    "BATCH_SIZE = 1\n",
    "\n",
    "train_loader = DataLoader(eeg_train_set, batch_size=BATCH_SIZE, shuffle=True)\n",
    "val_loader = DataLoader(eeg_val_set, batch_size=BATCH_SIZE, shuffle=True)\n",
    "test_loader = DataLoader(eeg_test_data, batch_size=BATCH_SIZE, shuffle=False)\n",
    "\n"
   ]
  },
  {
   "cell_type": "code",
   "execution_count": null,
   "metadata": {},
   "outputs": [],
   "source": [
    "device = torch.device(\"cuda\" if torch.cuda.is_available() else \"cpu\")\n",
    "embed_size = 4\n",
    "nhead = 2     \n",
    "num_layers = 6  \n",
    "\n",
    "#transformer = nn.Transformer(d_model=d_model, nhead=nhead).to(device)\n",
    "\n",
    "encoder_layer = nn.TransformerEncoderLayer(d_model=embed_size, nhead=nhead, batch_first=True).to(device)\n",
    "decoder_layer = nn.TransformerDecoderLayer(d_model=embed_size, nhead=nhead, batch_first=True).to(device)\n",
    "\n",
    "\n",
    "transformer_encoder = nn.TransformerEncoder(encoder_layer, num_layers=num_layers).to(device)\n",
    "transformer_decoder = nn.TransformerDecoder(decoder_layer, num_layers=num_layers).to(device)\n",
    "model_params = list(transformer_encoder.parameters()) + list(transformer_decoder.parameters())\n"
   ]
  },
  {
   "cell_type": "code",
   "execution_count": null,
   "metadata": {},
   "outputs": [],
   "source": [
    "\n",
    "criterion = nn.MSELoss()    \n",
    "optimizer = optim.SGD(model_params, \n",
    "                        lr=0.001, \n",
    "                        momentum=0.9)\n",
    "\n",
    "losses = []\n",
    "#batch_size = 1\n",
    "for epoch in range(20000):\n",
    "    train_loss = 0.0\n",
    "    #transformer.train()\n",
    "\n",
    "    for batch in train_loader:\n",
    "        \n",
    "        src_data = batch\n",
    "        src_data = src_data.cuda()\n",
    "\n",
    "        optimizer.zero_grad()\n",
    "       # src_data = src_data.flatten(start_dim=2) \n",
    "       # src_data = src_data.permute(2, 0, 1) \n",
    "        memory = transformer_encoder(src_data)\n",
    "        out_batch = transformer_decoder(src_data, memory)\n",
    "        loss = criterion(out_batch, src_data)\n",
    "        loss.backward()\n",
    "        optimizer.step()\n",
    "        train_loss += loss.item()\n",
    "        #losses.append(loss.item())\n",
    "    \n",
    "    val_loss = 0.0\n",
    "    for batch in val_loader:\n",
    "        src_batch = batch\n",
    "        src_batch = src_batch.cuda()\n",
    "        memory = transformer_encoder(src_batch)\n",
    "        out_batch = transformer_decoder(src_data, memory)\n",
    "        loss = criterion(out_batch, src_data)\n",
    "       \n",
    "        val_loss += loss.item()\n",
    "        \n",
    "    print(\"Epoch: {} Train Loss: {} Val Loss: {}\".format(\n",
    "                  epoch, \n",
    "                  train_loss/len(train_loader), \n",
    "                  val_loss/len(val_loader)))\n",
    "\n",
    "plt.plot(losses)\n",
    "plt.xlabel('Batch')\n",
    "plt.ylabel('Loss')\n",
    "plt.title('Loss per Batch')\n",
    "plt.show()\n"
   ]
  },
  {
   "cell_type": "markdown",
   "metadata": {},
   "source": [
    "Attetnion Block"
   ]
  },
  {
   "cell_type": "markdown",
   "metadata": {},
   "source": [
    "Transformer Block"
   ]
  },
  {
   "cell_type": "markdown",
   "metadata": {},
   "source": [
    "Encoder"
   ]
  }
 ],
 "metadata": {
  "kernelspec": {
   "display_name": "Python 3",
   "language": "python",
   "name": "python3"
  },
  "language_info": {
   "codemirror_mode": {
    "name": "ipython",
    "version": 3
   },
   "file_extension": ".py",
   "mimetype": "text/x-python",
   "name": "python",
   "nbconvert_exporter": "python",
   "pygments_lexer": "ipython3",
   "version": "3.11.5"
  }
 },
 "nbformat": 4,
 "nbformat_minor": 2
}
