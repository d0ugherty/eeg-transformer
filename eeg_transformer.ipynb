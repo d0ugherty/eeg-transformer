{
 "cells": [
  {
   "cell_type": "code",
   "execution_count": 1,
   "metadata": {},
   "outputs": [],
   "source": [
    "import numpy as np\n",
    "import glob\n",
    "import os\n",
    "import pandas as pd\n",
    "import scipy.signal as signal\n",
    "import mne\n",
    "import torch\n",
    "from torch.utils.data import DataLoader, Dataset\n",
    "from mne import preprocessing, Epochs\n",
    "import utils\n",
    "import matplotlib.pyplot as plt"
   ]
  },
  {
   "cell_type": "markdown",
   "metadata": {},
   "source": [
    "## Data pre-processing"
   ]
  },
  {
   "cell_type": "code",
   "execution_count": 2,
   "metadata": {},
   "outputs": [],
   "source": [
    "#create dataframe from CSV files\n",
    "eeg_file_path = 'data/eeg_data_A/'\n",
    "eog_file_path = 'data/eeg_data_B/'\n",
    "#eeg_dataframe_A.head()\n",
    "#eeg_dataframe_A = utils.format_df(eeg_dataframe_A)\n",
    "#eeg_dataframe_A.head()\n",
    "#eeg_dataframe = utils.gdf_to_df(file_path + 'A01T.gdf')\n"
   ]
  },
  {
   "cell_type": "markdown",
   "metadata": {},
   "source": [
    "### Band pass filtering and events"
   ]
  },
  {
   "cell_type": "code",
   "execution_count": null,
   "metadata": {},
   "outputs": [],
   "source": [
    "eeg_files = glob.glob(os.path.join(eeg_file_path, '*.gdf'))\n",
    "eog_files = glob.glob(os.path.join(eog_file_path + '*.gdf'))\n",
    "eeg_channels = 25\n",
    "eog_channels = 6\n",
    "method = 'fastica'\n",
    "raw_eeg_objects = []  # list to store raw objects\n",
    "raw_eog_objects = []\n",
    "\n",
    "eog_epoch_objects = []\n",
    "eeg_epoch_objects = []\n",
    "rename_dict = {\n",
    "    'EOG:ch01': 'EOG001',\n",
    "    'EOG:ch02': 'EOG002',\n",
    "    'EOG:ch03': 'EOG003'\n",
    "}\n",
    "\n",
    "\n",
    "for file in eeg_files + eog_files:\n",
    "    raw = mne.io.read_raw_gdf(file, preload=True)\n",
    "    if file in eog_files:\n",
    "        print(file)\n",
    "        raw.rename_channels(rename_dict)\n",
    "        raw.set_channel_types({'EOG001': 'eog', 'EOG002': 'eog', 'EOG003': 'eog'})\n",
    "        eog_epochs = mne.preprocessing.create_eog_epochs(raw, baseline=(-0.5, -0.2))\n",
    "        eog_epoch_objects.append(eog_epochs)\n",
    "        raw_eog_objects.append(raw)\n",
    "    else:\n",
    "        print(file)\n",
    "        events, event_id = mne.events_from_annotations(raw)\n",
    "        tmin, tmax = -0.2, 0.5\n",
    "        eeg_epochs = mne.Epochs(raw, events, event_repeated='merge', event_id=None, tmin=tmin, tmax=tmax, baseline=(None, 0), preload=True)\n",
    "        eeg_epoch_objects.append(eeg_epochs)\n",
    "        raw_eeg_objects.append(raw)\n",
    "    raw.filter(l_freq=1.0, h_freq=40.0, verbose=False)\n",
    "\n"
   ]
  },
  {
   "cell_type": "markdown",
   "metadata": {},
   "source": [
    "Convert to PyTorch Tensors"
   ]
  },
  {
   "cell_type": "code",
   "execution_count": 4,
   "metadata": {},
   "outputs": [
    {
     "name": "stdout",
     "output_type": "stream",
     "text": [
      "torch.Size([18, 25, 687792])\n",
      "torch.Size([40, 6, 787729])\n"
     ]
    }
   ],
   "source": [
    "eeg_arrays = []\n",
    "eog_arrays = []\n",
    "\n",
    "for raw in raw_eeg_objects:\n",
    "    data = raw.get_data()\n",
    "    eeg_arrays.append(data)\n",
    "\n",
    "for raw in raw_eog_objects:\n",
    "    data = raw.get_data()\n",
    "    eog_arrays.append(data)\n",
    "\n",
    "eeg_arrays = utils.pad_arrays(eeg_arrays)\n",
    "eog_arrays = utils.pad_arrays(eog_arrays)\n",
    "\n",
    "tensor_eeg = torch.tensor(eeg_arrays,dtype=torch.float32)\n",
    "tensor_eog = torch.tensor(eog_arrays,dtype=torch.float32)\n",
    "\n",
    "print(tensor_eeg.shape)\n",
    "print(tensor_eog.shape)"
   ]
  },
  {
   "cell_type": "code",
   "execution_count": 5,
   "metadata": {},
   "outputs": [],
   "source": [
    "class EEGDataset(Dataset):\n",
    "    def __init__(self, data, labels):\n",
    "        self.data = data\n",
    "        self.labels = labels\n",
    "    \n",
    "    def __len__(self):\n",
    "        return len(self.data)\n",
    "    \n",
    "    def __get_item__(self, idx):\n",
    "        sample = self.data[idx]\n",
    "        label = self.labels[idx]\n",
    "        return sample, label\n"
   ]
  }
 ],
 "metadata": {
  "kernelspec": {
   "display_name": "Python 3",
   "language": "python",
   "name": "python3"
  },
  "language_info": {
   "codemirror_mode": {
    "name": "ipython",
    "version": 3
   },
   "file_extension": ".py",
   "mimetype": "text/x-python",
   "name": "python",
   "nbconvert_exporter": "python",
   "pygments_lexer": "ipython3",
   "version": "3.11.5"
  }
 },
 "nbformat": 4,
 "nbformat_minor": 2
}
